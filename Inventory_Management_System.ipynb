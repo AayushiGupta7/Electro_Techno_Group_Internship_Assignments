{
 "cells": [
  {
   "cell_type": "code",
   "execution_count": 1,
   "metadata": {},
   "outputs": [],
   "source": [
    "record = {1101:{'name':'candy','quantity': 20,'price': 5,'brand':'cans'}, \n",
    "          1102 :{'name':'cake','quantity': 50,'price': 200,'brand':'cakes n crafts'},\n",
    "          1103 :{'name':'soap','quantity': 40,'price': 30,'brand':'Liril'},\n",
    "          1104 :{'name':'brush','quantity': 20,'price': 20,'brand':'Oral B'},\n",
    "          1105 :{'name':'Paste','quantity': 70,'price': 90,'brand':'Patanjali'},\n",
    "          1106 :{'name':'oil', 'quantity': 10,'price': 100,'brand':'Saffola'},\n",
    "          1107 :{'name':'Haldi','quantity': 30,'price': 90,'brand':'Jwala'},\n",
    "          1108 :{'name':'Mirch','quantity': 20,'price': 40,'brand':'Jwala'},\n",
    "          1109 :{'name':'Detergent','quantity': 100,'price': 40,'brand':'Ghadi'},\n",
    "          11010 :{'name':'Chocolate','quantity': 50,'price': 20,'brand':'Dairy Milk'},\n",
    "          11011 :{'name':'Biscuit','quantity': 20,'price': 10,'brand':'baurbon'},\n",
    "          11012 :{'name':'bournVita','quantity': 20,'price': 10,'brand':'Cadbury'},\n",
    "          11013 :{'name':'Ghee','quantity': 50,'price': 300,'brand':'Amul'},\n",
    "          11014 :{'name':'milk','quantity': 20,'price': 50,'brand':'Amul'},\n",
    "          11015 :{'name':'MouthFreshner','quantity': 20,'price': 5,'brand':'gold'}, \n",
    "          11016 :{'name':'shampoo','quantity': 40,'price': 5,'brand':'dove'},\n",
    "          11017 :{'name':'maggie','quantity': 20,'price': 20,'brand':'nestle'},\n",
    "          11018 :{'name':'pasta','quantity': 20,'price': 30,'brand':'nestle'},\n",
    "          11019 :{'name':'yippee','quantity': 30,'price': 20,'brand':'yippee'},\n",
    "          11020 :{'name':'perk','quantity': 20,'price': 10,'brand':'perk'},\n",
    "          11021 :{'name':'pencil','quantity': 20,'price': 4,'brand':'apsara'},\n",
    "          11022 :{'name':'rubber','quantity': 20,'price': 10,'brand':'apsara'},\n",
    "          11023 :{'name':'pen','quantity': 20,'price': 10,'brand':'pentech'},\n",
    "          11024 :{'name':'copies','quantity': 20,'price': 50,'brand':'NoteBook'},\n",
    "          11025 :{'name':'bag','quantity': 20,'price': 400,'brand':'skybags'},\n",
    "          11026 :{'name':'coffee','quantity': 40,'price': 10,'brand':'nestle'},\n",
    "          11027 :{'name':'apple','quantity': 20,'price': 10,'brand':'apple'},\n",
    "          11028 :{'name':'lunch','quantity': 20,'price': 150,'brand':'steel'},\n",
    "          11029 :{'name':'waterbottle','quantity': 20,'price': 60,'brand':'water'},\n",
    "          11030 :{'name':'sugarfree','quantity': 20,'price': 60,'brand':'madhur'}\n",
    "              \n",
    "\n",
    "}"
   ]
  },
  {
   "cell_type": "code",
   "execution_count": 2,
   "metadata": {},
   "outputs": [
    {
     "data": {
      "text/plain": [
       "{1101: {'name': 'candy', 'quantity': 20, 'price': 5, 'brand': 'cans'},\n",
       " 1102: {'name': 'cake',\n",
       "  'quantity': 50,\n",
       "  'price': 200,\n",
       "  'brand': 'cakes n crafts'},\n",
       " 1103: {'name': 'soap', 'quantity': 40, 'price': 30, 'brand': 'Liril'},\n",
       " 1104: {'name': 'brush', 'quantity': 20, 'price': 20, 'brand': 'Oral B'},\n",
       " 1105: {'name': 'Paste', 'quantity': 70, 'price': 90, 'brand': 'Patanjali'},\n",
       " 1106: {'name': 'oil', 'quantity': 10, 'price': 100, 'brand': 'Saffola'},\n",
       " 1107: {'name': 'Haldi', 'quantity': 30, 'price': 90, 'brand': 'Jwala'},\n",
       " 1108: {'name': 'Mirch', 'quantity': 20, 'price': 40, 'brand': 'Jwala'},\n",
       " 1109: {'name': 'Detergent', 'quantity': 100, 'price': 40, 'brand': 'Ghadi'},\n",
       " 11010: {'name': 'Chocolate',\n",
       "  'quantity': 50,\n",
       "  'price': 20,\n",
       "  'brand': 'Dairy Milk'},\n",
       " 11011: {'name': 'Biscuit', 'quantity': 20, 'price': 10, 'brand': 'baurbon'},\n",
       " 11012: {'name': 'bournVita', 'quantity': 20, 'price': 10, 'brand': 'Cadbury'},\n",
       " 11013: {'name': 'Ghee', 'quantity': 50, 'price': 300, 'brand': 'Amul'},\n",
       " 11014: {'name': 'milk', 'quantity': 20, 'price': 50, 'brand': 'Amul'},\n",
       " 11015: {'name': 'MouthFreshner', 'quantity': 20, 'price': 5, 'brand': 'gold'},\n",
       " 11016: {'name': 'shampoo', 'quantity': 40, 'price': 5, 'brand': 'dove'},\n",
       " 11017: {'name': 'maggie', 'quantity': 20, 'price': 20, 'brand': 'nestle'},\n",
       " 11018: {'name': 'pasta', 'quantity': 20, 'price': 30, 'brand': 'nestle'},\n",
       " 11019: {'name': 'yippee', 'quantity': 30, 'price': 20, 'brand': 'yippee'},\n",
       " 11020: {'name': 'perk', 'quantity': 20, 'price': 10, 'brand': 'perk'},\n",
       " 11021: {'name': 'pencil', 'quantity': 20, 'price': 4, 'brand': 'apsara'},\n",
       " 11022: {'name': 'rubber', 'quantity': 20, 'price': 10, 'brand': 'apsara'},\n",
       " 11023: {'name': 'pen', 'quantity': 20, 'price': 10, 'brand': 'pentech'},\n",
       " 11024: {'name': 'copies', 'quantity': 20, 'price': 50, 'brand': 'NoteBook'},\n",
       " 11025: {'name': 'bag', 'quantity': 20, 'price': 400, 'brand': 'skybags'},\n",
       " 11026: {'name': 'coffee', 'quantity': 40, 'price': 10, 'brand': 'nestle'},\n",
       " 11027: {'name': 'apple', 'quantity': 20, 'price': 10, 'brand': 'apple'},\n",
       " 11028: {'name': 'lunch', 'quantity': 20, 'price': 150, 'brand': 'steel'},\n",
       " 11029: {'name': 'waterbottle', 'quantity': 20, 'price': 60, 'brand': 'water'},\n",
       " 11030: {'name': 'sugarfree', 'quantity': 20, 'price': 60, 'brand': 'madhur'}}"
      ]
     },
     "execution_count": 2,
     "metadata": {},
     "output_type": "execute_result"
    }
   ],
   "source": [
    "record"
   ]
  },
  {
   "cell_type": "code",
   "execution_count": 4,
   "metadata": {},
   "outputs": [],
   "source": [
    "import json"
   ]
  },
  {
   "cell_type": "code",
   "execution_count": 5,
   "metadata": {},
   "outputs": [
    {
     "data": {
      "text/plain": [
       "'{\"1101\": {\"name\": \"candy\", \"quantity\": 20, \"price\": 5, \"brand\": \"cans\"}, \"1102\": {\"name\": \"cake\", \"quantity\": 50, \"price\": 200, \"brand\": \"cakes n crafts\"}, \"1103\": {\"name\": \"soap\", \"quantity\": 40, \"price\": 30, \"brand\": \"Liril\"}, \"1104\": {\"name\": \"brush\", \"quantity\": 20, \"price\": 20, \"brand\": \"Oral B\"}, \"1105\": {\"name\": \"Paste\", \"quantity\": 70, \"price\": 90, \"brand\": \"Patanjali\"}, \"1106\": {\"name\": \"oil\", \"quantity\": 10, \"price\": 100, \"brand\": \"Saffola\"}, \"1107\": {\"name\": \"Haldi\", \"quantity\": 30, \"price\": 90, \"brand\": \"Jwala\"}, \"1108\": {\"name\": \"Mirch\", \"quantity\": 20, \"price\": 40, \"brand\": \"Jwala\"}, \"1109\": {\"name\": \"Detergent\", \"quantity\": 100, \"price\": 40, \"brand\": \"Ghadi\"}, \"11010\": {\"name\": \"Chocolate\", \"quantity\": 50, \"price\": 20, \"brand\": \"Dairy Milk\"}, \"11011\": {\"name\": \"Biscuit\", \"quantity\": 20, \"price\": 10, \"brand\": \"baurbon\"}, \"11012\": {\"name\": \"bournVita\", \"quantity\": 20, \"price\": 10, \"brand\": \"Cadbury\"}, \"11013\": {\"name\": \"Ghee\", \"quantity\": 50, \"price\": 300, \"brand\": \"Amul\"}, \"11014\": {\"name\": \"milk\", \"quantity\": 20, \"price\": 50, \"brand\": \"Amul\"}, \"11015\": {\"name\": \"MouthFreshner\", \"quantity\": 20, \"price\": 5, \"brand\": \"gold\"}, \"11016\": {\"name\": \"shampoo\", \"quantity\": 40, \"price\": 5, \"brand\": \"dove\"}, \"11017\": {\"name\": \"maggie\", \"quantity\": 20, \"price\": 20, \"brand\": \"nestle\"}, \"11018\": {\"name\": \"pasta\", \"quantity\": 20, \"price\": 30, \"brand\": \"nestle\"}, \"11019\": {\"name\": \"yippee\", \"quantity\": 30, \"price\": 20, \"brand\": \"yippee\"}, \"11020\": {\"name\": \"perk\", \"quantity\": 20, \"price\": 10, \"brand\": \"perk\"}, \"11021\": {\"name\": \"pencil\", \"quantity\": 20, \"price\": 4, \"brand\": \"apsara\"}, \"11022\": {\"name\": \"rubber\", \"quantity\": 20, \"price\": 10, \"brand\": \"apsara\"}, \"11023\": {\"name\": \"pen\", \"quantity\": 20, \"price\": 10, \"brand\": \"pentech\"}, \"11024\": {\"name\": \"copies\", \"quantity\": 20, \"price\": 50, \"brand\": \"NoteBook\"}, \"11025\": {\"name\": \"bag\", \"quantity\": 20, \"price\": 400, \"brand\": \"skybags\"}, \"11026\": {\"name\": \"coffee\", \"quantity\": 40, \"price\": 10, \"brand\": \"nestle\"}, \"11027\": {\"name\": \"apple\", \"quantity\": 20, \"price\": 10, \"brand\": \"apple\"}, \"11028\": {\"name\": \"lunch\", \"quantity\": 20, \"price\": 150, \"brand\": \"steel\"}, \"11029\": {\"name\": \"waterbottle\", \"quantity\": 20, \"price\": 60, \"brand\": \"water\"}, \"11030\": {\"name\": \"sugarfree\", \"quantity\": 20, \"price\": 60, \"brand\": \"madhur\"}}'"
      ]
     },
     "execution_count": 5,
     "metadata": {},
     "output_type": "execute_result"
    }
   ],
   "source": [
    "js = json.dumps(record)\n",
    "js"
   ]
  },
  {
   "cell_type": "markdown",
   "metadata": {},
   "source": [
    "### Writing to record File"
   ]
  },
  {
   "cell_type": "code",
   "execution_count": 7,
   "metadata": {},
   "outputs": [],
   "source": [
    "fd = open('record.json','w')\n",
    "fd.write(js)\n",
    "fd.close()"
   ]
  },
  {
   "cell_type": "markdown",
   "metadata": {},
   "source": [
    "### Reading the record File"
   ]
  },
  {
   "cell_type": "code",
   "execution_count": 11,
   "metadata": {},
   "outputs": [],
   "source": [
    "fd = open('record.json','r')\n",
    "r = fd.read()\n",
    "fd.close()"
   ]
  },
  {
   "cell_type": "code",
   "execution_count": 12,
   "metadata": {},
   "outputs": [
    {
     "data": {
      "text/plain": [
       "{'1101': {'name': 'candy', 'quantity': 20, 'price': 5, 'brand': 'cans'},\n",
       " '1102': {'name': 'cake',\n",
       "  'quantity': 50,\n",
       "  'price': 200,\n",
       "  'brand': 'cakes n crafts'},\n",
       " '1103': {'name': 'soap', 'quantity': 40, 'price': 30, 'brand': 'Liril'},\n",
       " '1104': {'name': 'brush', 'quantity': 20, 'price': 20, 'brand': 'Oral B'},\n",
       " '1105': {'name': 'Paste', 'quantity': 70, 'price': 90, 'brand': 'Patanjali'},\n",
       " '1106': {'name': 'oil', 'quantity': 10, 'price': 100, 'brand': 'Saffola'},\n",
       " '1107': {'name': 'Haldi', 'quantity': 30, 'price': 90, 'brand': 'Jwala'},\n",
       " '1108': {'name': 'Mirch', 'quantity': 20, 'price': 40, 'brand': 'Jwala'},\n",
       " '1109': {'name': 'Detergent', 'quantity': 100, 'price': 40, 'brand': 'Ghadi'},\n",
       " '11010': {'name': 'Chocolate',\n",
       "  'quantity': 50,\n",
       "  'price': 20,\n",
       "  'brand': 'Dairy Milk'},\n",
       " '11011': {'name': 'Biscuit', 'quantity': 20, 'price': 10, 'brand': 'baurbon'},\n",
       " '11012': {'name': 'bournVita',\n",
       "  'quantity': 20,\n",
       "  'price': 10,\n",
       "  'brand': 'Cadbury'},\n",
       " '11013': {'name': 'Ghee', 'quantity': 50, 'price': 300, 'brand': 'Amul'},\n",
       " '11014': {'name': 'milk', 'quantity': 20, 'price': 50, 'brand': 'Amul'},\n",
       " '11015': {'name': 'MouthFreshner',\n",
       "  'quantity': 20,\n",
       "  'price': 5,\n",
       "  'brand': 'gold'},\n",
       " '11016': {'name': 'shampoo', 'quantity': 40, 'price': 5, 'brand': 'dove'},\n",
       " '11017': {'name': 'maggie', 'quantity': 20, 'price': 20, 'brand': 'nestle'},\n",
       " '11018': {'name': 'pasta', 'quantity': 20, 'price': 30, 'brand': 'nestle'},\n",
       " '11019': {'name': 'yippee', 'quantity': 30, 'price': 20, 'brand': 'yippee'},\n",
       " '11020': {'name': 'perk', 'quantity': 20, 'price': 10, 'brand': 'perk'},\n",
       " '11021': {'name': 'pencil', 'quantity': 20, 'price': 4, 'brand': 'apsara'},\n",
       " '11022': {'name': 'rubber', 'quantity': 20, 'price': 10, 'brand': 'apsara'},\n",
       " '11023': {'name': 'pen', 'quantity': 20, 'price': 10, 'brand': 'pentech'},\n",
       " '11024': {'name': 'copies', 'quantity': 20, 'price': 50, 'brand': 'NoteBook'},\n",
       " '11025': {'name': 'bag', 'quantity': 20, 'price': 400, 'brand': 'skybags'},\n",
       " '11026': {'name': 'coffee', 'quantity': 40, 'price': 10, 'brand': 'nestle'},\n",
       " '11027': {'name': 'apple', 'quantity': 20, 'price': 10, 'brand': 'apple'},\n",
       " '11028': {'name': 'lunch', 'quantity': 20, 'price': 150, 'brand': 'steel'},\n",
       " '11029': {'name': 'waterbottle',\n",
       "  'quantity': 20,\n",
       "  'price': 60,\n",
       "  'brand': 'water'},\n",
       " '11030': {'name': 'sugarfree',\n",
       "  'quantity': 20,\n",
       "  'price': 60,\n",
       "  'brand': 'madhur'}}"
      ]
     },
     "execution_count": 12,
     "metadata": {},
     "output_type": "execute_result"
    }
   ],
   "source": [
    "record = json.loads(r)\n",
    "record"
   ]
  },
  {
   "cell_type": "markdown",
   "metadata": {},
   "source": [
    "### Adding and updating new item to inventory"
   ]
  },
  {
   "cell_type": "code",
   "execution_count": 13,
   "metadata": {},
   "outputs": [
    {
     "name": "stdout",
     "output_type": "stream",
     "text": [
      "Enter Product ID : 11032\n",
      "Enter Product Name : deo\n",
      "Enter the price of product :500\n",
      "Enter the Quaniity : 50\n",
      "Enter the brand of product : axe\n"
     ]
    }
   ],
   "source": [
    "prod_id = input(\"Enter Product ID : \")\n",
    "name = input(\"Enter Product Name : \")\n",
    "pr = int(input(\"Enter the price of product :\"))\n",
    "qn = int(input(\"Enter the Quaniity : \"))\n",
    "brand = input(\"Enter the brand of product : \")\n",
    "\n",
    "\n",
    "record[prod_id] = {'brand': brand, 'name': name,'price': pr, 'quantity': qn}\n",
    "\n",
    "js = json.dumps(record)\n",
    "\n",
    "fd = open('record.json','w')\n",
    "fd.write(js)\n",
    "fd.close()"
   ]
  },
  {
   "cell_type": "code",
   "execution_count": 14,
   "metadata": {},
   "outputs": [
    {
     "data": {
      "text/plain": [
       "{'1101': {'name': 'candy', 'quantity': 20, 'price': 5, 'brand': 'cans'},\n",
       " '1102': {'name': 'cake',\n",
       "  'quantity': 50,\n",
       "  'price': 200,\n",
       "  'brand': 'cakes n crafts'},\n",
       " '1103': {'name': 'soap', 'quantity': 40, 'price': 30, 'brand': 'Liril'},\n",
       " '1104': {'name': 'brush', 'quantity': 20, 'price': 20, 'brand': 'Oral B'},\n",
       " '1105': {'name': 'Paste', 'quantity': 70, 'price': 90, 'brand': 'Patanjali'},\n",
       " '1106': {'name': 'oil', 'quantity': 10, 'price': 100, 'brand': 'Saffola'},\n",
       " '1107': {'name': 'Haldi', 'quantity': 30, 'price': 90, 'brand': 'Jwala'},\n",
       " '1108': {'name': 'Mirch', 'quantity': 20, 'price': 40, 'brand': 'Jwala'},\n",
       " '1109': {'name': 'Detergent', 'quantity': 100, 'price': 40, 'brand': 'Ghadi'},\n",
       " '11010': {'name': 'Chocolate',\n",
       "  'quantity': 50,\n",
       "  'price': 20,\n",
       "  'brand': 'Dairy Milk'},\n",
       " '11011': {'name': 'Biscuit', 'quantity': 20, 'price': 10, 'brand': 'baurbon'},\n",
       " '11012': {'name': 'bournVita',\n",
       "  'quantity': 20,\n",
       "  'price': 10,\n",
       "  'brand': 'Cadbury'},\n",
       " '11013': {'name': 'Ghee', 'quantity': 50, 'price': 300, 'brand': 'Amul'},\n",
       " '11014': {'name': 'milk', 'quantity': 20, 'price': 50, 'brand': 'Amul'},\n",
       " '11015': {'name': 'MouthFreshner',\n",
       "  'quantity': 20,\n",
       "  'price': 5,\n",
       "  'brand': 'gold'},\n",
       " '11016': {'name': 'shampoo', 'quantity': 40, 'price': 5, 'brand': 'dove'},\n",
       " '11017': {'name': 'maggie', 'quantity': 20, 'price': 20, 'brand': 'nestle'},\n",
       " '11018': {'name': 'pasta', 'quantity': 20, 'price': 30, 'brand': 'nestle'},\n",
       " '11019': {'name': 'yippee', 'quantity': 30, 'price': 20, 'brand': 'yippee'},\n",
       " '11020': {'name': 'perk', 'quantity': 20, 'price': 10, 'brand': 'perk'},\n",
       " '11021': {'name': 'pencil', 'quantity': 20, 'price': 4, 'brand': 'apsara'},\n",
       " '11022': {'name': 'rubber', 'quantity': 20, 'price': 10, 'brand': 'apsara'},\n",
       " '11023': {'name': 'pen', 'quantity': 20, 'price': 10, 'brand': 'pentech'},\n",
       " '11024': {'name': 'copies', 'quantity': 20, 'price': 50, 'brand': 'NoteBook'},\n",
       " '11025': {'name': 'bag', 'quantity': 20, 'price': 400, 'brand': 'skybags'},\n",
       " '11026': {'name': 'coffee', 'quantity': 40, 'price': 10, 'brand': 'nestle'},\n",
       " '11027': {'name': 'apple', 'quantity': 20, 'price': 10, 'brand': 'apple'},\n",
       " '11028': {'name': 'lunch', 'quantity': 20, 'price': 150, 'brand': 'steel'},\n",
       " '11029': {'name': 'waterbottle',\n",
       "  'quantity': 20,\n",
       "  'price': 60,\n",
       "  'brand': 'water'},\n",
       " '11030': {'name': 'sugarfree',\n",
       "  'quantity': 20,\n",
       "  'price': 60,\n",
       "  'brand': 'madhur'},\n",
       " '11032': {'brand': 'axe', 'name': 'deo', 'price': 500, 'quantity': 50}}"
      ]
     },
     "execution_count": 14,
     "metadata": {},
     "output_type": "execute_result"
    }
   ],
   "source": [
    "record"
   ]
  },
  {
   "cell_type": "markdown",
   "metadata": {},
   "source": [
    "### Checking after updating the inventory"
   ]
  },
  {
   "cell_type": "code",
   "execution_count": 15,
   "metadata": {},
   "outputs": [
    {
     "data": {
      "text/plain": [
       "{'brand': 'axe', 'name': 'deo', 'price': 500, 'quantity': 50}"
      ]
     },
     "execution_count": 15,
     "metadata": {},
     "output_type": "execute_result"
    }
   ],
   "source": [
    "record['11032']"
   ]
  },
  {
   "cell_type": "code",
   "execution_count": null,
   "metadata": {},
   "outputs": [],
   "source": []
  }
 ],
 "metadata": {
  "kernelspec": {
   "display_name": "Python 3",
   "language": "python",
   "name": "python3"
  },
  "language_info": {
   "codemirror_mode": {
    "name": "ipython",
    "version": 3
   },
   "file_extension": ".py",
   "mimetype": "text/x-python",
   "name": "python",
   "nbconvert_exporter": "python",
   "pygments_lexer": "ipython3",
   "version": "3.8.5"
  }
 },
 "nbformat": 4,
 "nbformat_minor": 4
}
